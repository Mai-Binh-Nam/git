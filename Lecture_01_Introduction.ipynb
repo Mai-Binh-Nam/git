{
  "nbformat": 4,
  "nbformat_minor": 0,
  "metadata": {
    "colab": {
      "name": "Lecture_01_Introduction.ipynb",
      "provenance": [],
      "collapsed_sections": [],
      "include_colab_link": true
    },
    "kernelspec": {
      "name": "python3",
      "display_name": "Python 3"
    }
  },
  "cells": [
    {
      "cell_type": "markdown",
      "metadata": {
        "id": "view-in-github",
        "colab_type": "text"
      },
      "source": [
        "<a href=\"https://colab.research.google.com/github/Mai-Binh-Nam/git/blob/master/Lecture_01_Introduction.ipynb\" target=\"_parent\"><img src=\"https://colab.research.google.com/assets/colab-badge.svg\" alt=\"Open In Colab\"/></a>"
      ]
    },
    {
      "cell_type": "markdown",
      "metadata": {
        "id": "klOe34t04TdO",
        "colab_type": "text"
      },
      "source": [
        "# Data Analysis Course - VEF Academy \n",
        "## Introduction to Data Analysis"
      ]
    },
    {
      "cell_type": "markdown",
      "metadata": {
        "id": "QLXjCKkO4PEb",
        "colab_type": "text"
      },
      "source": [
        "## Import necessary libraries"
      ]
    },
    {
      "cell_type": "code",
      "metadata": {
        "id": "Lxi940HB4A_8",
        "colab_type": "code",
        "colab": {}
      },
      "source": [
        "import numpy as np\n",
        "import pandas as pd\n",
        "import datetime as dt"
      ],
      "execution_count": 1,
      "outputs": []
    },
    {
      "cell_type": "markdown",
      "metadata": {
        "id": "orDZVzLbH5XU",
        "colab_type": "text"
      },
      "source": [
        "## Read the dataset into the notebook"
      ]
    },
    {
      "cell_type": "code",
      "metadata": {
        "id": "H-GD42WvHxca",
        "colab_type": "code",
        "colab": {}
      },
      "source": [
        "# Orders\n",
        "orders = pd.read_csv('https://raw.githubusercontent.com/thuynh386/olist_ecommerce_dataset/master/olist_orders_dataset.csv')\n",
        "order_items = pd.read_csv('https://raw.githubusercontent.com/thuynh386/olist_ecommerce_dataset/master/olist_order_items_dataset.csv')"
      ],
      "execution_count": null,
      "outputs": []
    },
    {
      "cell_type": "markdown",
      "metadata": {
        "id": "9SEI4o4uH8Wq",
        "colab_type": "text"
      },
      "source": [
        "## What is the number of customers who have made at least 1 order?"
      ]
    },
    {
      "cell_type": "code",
      "metadata": {
        "id": "-s0LtbEtwwEE",
        "colab_type": "code",
        "colab": {}
      },
      "source": [
        "# Write your code here. Feel free to Google search for the keyword \"Python count unique dataframe column\"\n",
        "\n",
        "\n"
      ],
      "execution_count": null,
      "outputs": []
    },
    {
      "cell_type": "markdown",
      "metadata": {
        "id": "NL75kR--ImrZ",
        "colab_type": "text"
      },
      "source": [
        "## What is the number of orders classified by each order status?"
      ]
    },
    {
      "cell_type": "code",
      "metadata": {
        "id": "-HeTsflVIrru",
        "colab_type": "code",
        "colab": {}
      },
      "source": [
        "# Write your code here. Google search \"Python dataframe groupby\"\n",
        "\n",
        "\n"
      ],
      "execution_count": null,
      "outputs": []
    },
    {
      "cell_type": "markdown",
      "metadata": {
        "id": "UtZNXd9CI6Va",
        "colab_type": "text"
      },
      "source": [
        "## Try joining the orders and the order_items datasets together using 4 different types of join we have covered. How many rows do we have in the result table for each type of join?"
      ]
    },
    {
      "cell_type": "code",
      "metadata": {
        "id": "12BBbwzAJAzT",
        "colab_type": "code",
        "colab": {}
      },
      "source": [
        "# Write your code here. \n",
        "\n",
        "\n"
      ],
      "execution_count": null,
      "outputs": []
    }
  ]
}